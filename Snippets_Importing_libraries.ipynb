{
  "cells": [
    {
      "cell_type": "markdown",
      "metadata": {
        "id": "view-in-github",
        "colab_type": "text"
      },
      "source": [
        "<a href=\"https://colab.research.google.com/github/mustafaVaroll/-physiotherapy-cite/blob/master/Snippets_Importing_libraries.ipynb\" target=\"_parent\"><img src=\"https://colab.research.google.com/assets/colab-badge.svg\" alt=\"Open In Colab\"/></a>"
      ]
    },
    {
      "cell_type": "code",
      "execution_count": 1,
      "metadata": {
        "colab": {
          "base_uri": "https://localhost:8080/"
        },
        "id": "GQ18Kd5F3uKe",
        "outputId": "8f8a34b7-440a-4a56-e61e-ee5836d0534f"
      },
      "outputs": [
        {
          "output_type": "stream",
          "name": "stdout",
          "text": [
            "Collecting pulp\n",
            "  Downloading PuLP-2.6.0-py3-none-any.whl (14.2 MB)\n",
            "\u001b[K     |████████████████████████████████| 14.2 MB 4.6 MB/s \n",
            "\u001b[?25hInstalling collected packages: pulp\n",
            "Successfully installed pulp-2.6.0\n"
          ]
        }
      ],
      "source": [
        "!pip install pulp"
      ]
    },
    {
      "cell_type": "code",
      "source": [
        "\"\"\"\n",
        "A çikolatası 1 lt süt 3 litre coco iiçeriri\n",
        "B çikolatası 1 lt süt 2 litre coco iiçeriri\n",
        "Şirket 5 litre süt 12 litre coco su avr\n",
        "Bir A dan 6 lira\n",
        "Bir B den 5 lira \n",
        "Ne  kadar a ve b satılırsa şirket maksimum kar elde eder\n",
        "\n",
        "6x+5y\n",
        "\n",
        "x + y ≤ 5\n",
        "3x + 2y ≤ 12\n",
        "x ≥ 0\n",
        "y ≥ 0\n",
        "\n",
        "\n",
        "\"\"\""
      ],
      "metadata": {
        "colab": {
          "base_uri": "https://localhost:8080/",
          "height": 53
        },
        "id": "czRVLpTP_cx6",
        "outputId": "e0d90ead-a2c8-47e8-f5c9-e3d8e4e8e9b9"
      },
      "execution_count": 19,
      "outputs": [
        {
          "output_type": "execute_result",
          "data": {
            "application/vnd.google.colaboratory.intrinsic+json": {
              "type": "string"
            },
            "text/plain": [
              "'\\nA çikolatası 1 lt süt 3 litre coco iiçeriri\\nB çikolatası 1 lt süt 2 litre coco iiçeriri\\nŞirket 5 litre süt 12 litre coco su avr\\nBir A dan 6 lira\\nBir B den 5 lira \\nNe  kadar a ve b satılırsa şirket maksimum kar elde eder\\n\\n6x+5y\\n\\nx + y ≤ 5\\n3x + 2y ≤ 12\\nx ≥ 0\\ny ≥ 0\\n\\n\\n'"
            ]
          },
          "metadata": {},
          "execution_count": 19
        }
      ]
    },
    {
      "cell_type": "code",
      "execution_count": 14,
      "metadata": {
        "colab": {
          "base_uri": "https://localhost:8080/"
        },
        "id": "__3eqm3q3sr-",
        "outputId": "a43226a5-dd7a-4f9e-fae2-0611d5c94f1a"
      },
      "outputs": [
        {
          "output_type": "stream",
          "name": "stdout",
          "text": [
            "MyProblem:\n",
            "MAXIMIZE\n",
            "6*x + 5*y + 0\n",
            "SUBJECT TO\n",
            "_C1: 3 x + 2 y <= 12\n",
            "\n",
            "_C2: x + y <= 5\n",
            "\n",
            "VARIABLES\n",
            "x Continuous\n",
            "y Continuous\n",
            "\n"
          ]
        }
      ],
      "source": [
        "\n",
        "import pulp as p\n",
        "  \n",
        "\n",
        "Lp_prob = p.LpProblem('MyProblem', p.LpMaximize) \n",
        "  \n",
        "\n",
        "x = p.LpVariable(\"x\", lowBound = 0)   \n",
        "y = p.LpVariable(\"y\", lowBound = 0)  \n",
        "  \n",
        "\n",
        "Lp_prob += 6 * x + 5 * y   \n",
        "  \n",
        "\n",
        "Lp_prob += 3* x + 2 * y <= 12\n",
        "Lp_prob += x + y <= 5\n",
        "  \n",
        "\n",
        "print(Lp_prob)\n",
        " "
      ]
    },
    {
      "cell_type": "code",
      "execution_count": 15,
      "metadata": {
        "colab": {
          "base_uri": "https://localhost:8080/"
        },
        "id": "d_j7nNbKRmhx",
        "outputId": "8c567943-405c-47a3-c9f6-f70cae40d815"
      },
      "outputs": [
        {
          "output_type": "stream",
          "name": "stdout",
          "text": [
            "Optimal\n"
          ]
        }
      ],
      "source": [
        "status = Lp_prob.solve()  \n",
        "print(p.LpStatus[status])   \n"
      ]
    },
    {
      "cell_type": "code",
      "execution_count": 20,
      "metadata": {
        "colab": {
          "base_uri": "https://localhost:8080/"
        },
        "id": "w9llCG2wSRDx",
        "outputId": "25ce3f15-81a9-49c7-ef8c-1d81d9eb7d95"
      },
      "outputs": [
        {
          "output_type": "stream",
          "name": "stdout",
          "text": [
            "2.0 3.0 27.0\n"
          ]
        }
      ],
      "source": [
        "\n",
        "print(p.value(x), p.value(y), p.value(Lp_prob.objective))\n",
        "\n"
      ]
    }
  ],
  "metadata": {
    "colab": {
      "collapsed_sections": [],
      "name": "Snippets: Importing libraries",
      "provenance": [],
      "include_colab_link": true
    },
    "kernelspec": {
      "display_name": "Python 3",
      "name": "python3"
    }
  },
  "nbformat": 4,
  "nbformat_minor": 0
}